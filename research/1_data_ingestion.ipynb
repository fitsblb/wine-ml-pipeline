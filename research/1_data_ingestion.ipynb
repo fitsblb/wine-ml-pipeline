{
 "cells": [
  {
   "cell_type": "markdown",
   "id": "439c0455",
   "metadata": {},
   "source": [
    "## **Import Libraries**"
   ]
  },
  {
   "cell_type": "code",
   "execution_count": 28,
   "id": "15162133",
   "metadata": {},
   "outputs": [],
   "source": [
    "import pandas as pd \n",
    "import os\n",
    "import yaml\n",
    "from pathlib import Path"
   ]
  },
  {
   "cell_type": "markdown",
   "id": "9f3ba76a",
   "metadata": {},
   "source": [
    "## **Load configs**"
   ]
  },
  {
   "cell_type": "code",
   "execution_count": 20,
   "id": "88256bcc",
   "metadata": {},
   "outputs": [],
   "source": [
    "project_root = Path.cwd().parent  \n",
    "config_path = project_root / \"config\" / \"config.yaml\"\n",
    "CFG = yaml.safe_load(open(config_path))\n",
    "RAW = project_root / CFG[\"paths\"][\"data_raw\"]\n",
    "SEP = CFG.get(\"io\", {}).get(\"csv_sep\", \",\")"
   ]
  },
  {
   "cell_type": "markdown",
   "id": "0dcb743c",
   "metadata": {},
   "source": [
    "## **Read data**"
   ]
  },
  {
   "cell_type": "code",
   "execution_count": 22,
   "id": "c8d86800",
   "metadata": {},
   "outputs": [
    {
     "name": "stdout",
     "output_type": "stream",
     "text": [
      "(1599, 12)\n"
     ]
    }
   ],
   "source": [
    "assert RAW.exists(), f\"Missing file {RAW}\"\n",
    "\n",
    "df = pd.read_csv(RAW, sep=SEP)\n",
    "print(df.shape)"
   ]
  },
  {
   "cell_type": "markdown",
   "id": "a76b8d45",
   "metadata": {},
   "source": [
    "## **Contract check (required columns)**"
   ]
  },
  {
   "cell_type": "code",
   "execution_count": null,
   "id": "2d736a20",
   "metadata": {},
   "outputs": [
    {
     "data": {
      "text/plain": [
       "set()"
      ]
     },
     "execution_count": 27,
     "metadata": {},
     "output_type": "execute_result"
    }
   ],
   "source": [
    "SCHEMA = yaml.safe_load(open(project_root /\"schema.yaml\"))\n",
    "required = set(SCHEMA.get(\"required\", [])) | {SCHEMA.get(\"target\", \"quality\")}\n",
    "missing = required - set(df.columns)\n",
    "print(missing)"
   ]
  },
  {
   "cell_type": "code",
   "execution_count": null,
   "id": "18913b04",
   "metadata": {},
   "outputs": [],
   "source": []
  }
 ],
 "metadata": {
  "kernelspec": {
   "display_name": ".venv",
   "language": "python",
   "name": "python3"
  },
  "language_info": {
   "codemirror_mode": {
    "name": "ipython",
    "version": 3
   },
   "file_extension": ".py",
   "mimetype": "text/x-python",
   "name": "python",
   "nbconvert_exporter": "python",
   "pygments_lexer": "ipython3",
   "version": "3.13.7"
  }
 },
 "nbformat": 4,
 "nbformat_minor": 5
}
